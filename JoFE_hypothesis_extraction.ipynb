{
 "metadata": {
  "language_info": {
   "codemirror_mode": {
    "name": "ipython",
    "version": 3
   },
   "file_extension": ".py",
   "mimetype": "text/x-python",
   "name": "python",
   "nbconvert_exporter": "python",
   "pygments_lexer": "ipython3",
   "version": "3.8.3"
  },
  "orig_nbformat": 2,
  "kernelspec": {
   "name": "python383jvsc74a57bd05af03e6f6884cdcbf495aa98cbd8d63d5d0ed05506dbd026ba0a4981213ae30b",
   "display_name": "Python 3.8.3 64-bit ('base': conda)"
  }
 },
 "nbformat": 4,
 "nbformat_minor": 2,
 "cells": [
  {
   "cell_type": "code",
   "execution_count": 1,
   "metadata": {},
   "outputs": [],
   "source": [
    "import re\n",
    "import glob\n",
    "import pandas as pd\n",
    "from tqdm import tqdm"
   ]
  },
  {
   "cell_type": "code",
   "execution_count": 2,
   "metadata": {},
   "outputs": [],
   "source": [
    "journal = 'JoFE'"
   ]
  },
  {
   "cell_type": "code",
   "execution_count": 3,
   "metadata": {},
   "outputs": [],
   "source": [
    "# get all files\n",
    "import os\n",
    "# change dir\n",
    "os.chdir('papers/JoFE_2000_2021_full_text/')\n",
    "files = glob.glob(\"*.txt\")\n"
   ]
  },
  {
   "cell_type": "code",
   "execution_count": 4,
   "metadata": {},
   "outputs": [
    {
     "output_type": "execute_result",
     "data": {
      "text/plain": [
       "                                               title  \\\n",
       "0                           Commonality in liquidity   \n",
       "1  Just another day in the inter-bank foreign exc...   \n",
       "2  The costs and determinants of order aggressive...   \n",
       "3  The relative pricing of U.S. Treasury STRIPS: ...   \n",
       "4  Eighths, sixteenths, and market depth: changes...   \n",
       "\n",
       "                                             doi  volume issue  month  year  \\\n",
       "0  https://doi.org/10.1016/S0304-405X(99)00057-4      56     1  April  2000   \n",
       "1  https://doi.org/10.1016/S0304-405X(99)00058-6      56     1  April  2000   \n",
       "2  https://doi.org/10.1016/S0304-405X(99)00059-8      56     1  April  2000   \n",
       "3  https://doi.org/10.1016/S0304-405X(99)00060-4      56     1  April  2000   \n",
       "4  https://doi.org/10.1016/S0304-405X(99)00061-6      56     1  April  2000   \n",
       "\n",
       "                                            abstract full_text_filename  \n",
       "0  Traditionally and understandably, the microsco...              0.txt  \n",
       "1  In this paper, I develop a theory of bid–ask q...              1.txt  \n",
       "2  This paper examines the costs and determinants...              2.txt  \n",
       "3  We investigate pricing relations and the poten...              3.txt  \n",
       "4  Using limit order data provided by the NYSE, w...              4.txt  "
      ],
      "text/html": "<div>\n<style scoped>\n    .dataframe tbody tr th:only-of-type {\n        vertical-align: middle;\n    }\n\n    .dataframe tbody tr th {\n        vertical-align: top;\n    }\n\n    .dataframe thead th {\n        text-align: right;\n    }\n</style>\n<table border=\"1\" class=\"dataframe\">\n  <thead>\n    <tr style=\"text-align: right;\">\n      <th></th>\n      <th>title</th>\n      <th>doi</th>\n      <th>volume</th>\n      <th>issue</th>\n      <th>month</th>\n      <th>year</th>\n      <th>abstract</th>\n      <th>full_text_filename</th>\n    </tr>\n  </thead>\n  <tbody>\n    <tr>\n      <th>0</th>\n      <td>Commonality in liquidity</td>\n      <td>https://doi.org/10.1016/S0304-405X(99)00057-4</td>\n      <td>56</td>\n      <td>1</td>\n      <td>April</td>\n      <td>2000</td>\n      <td>Traditionally and understandably, the microsco...</td>\n      <td>0.txt</td>\n    </tr>\n    <tr>\n      <th>1</th>\n      <td>Just another day in the inter-bank foreign exc...</td>\n      <td>https://doi.org/10.1016/S0304-405X(99)00058-6</td>\n      <td>56</td>\n      <td>1</td>\n      <td>April</td>\n      <td>2000</td>\n      <td>In this paper, I develop a theory of bid–ask q...</td>\n      <td>1.txt</td>\n    </tr>\n    <tr>\n      <th>2</th>\n      <td>The costs and determinants of order aggressive...</td>\n      <td>https://doi.org/10.1016/S0304-405X(99)00059-8</td>\n      <td>56</td>\n      <td>1</td>\n      <td>April</td>\n      <td>2000</td>\n      <td>This paper examines the costs and determinants...</td>\n      <td>2.txt</td>\n    </tr>\n    <tr>\n      <th>3</th>\n      <td>The relative pricing of U.S. Treasury STRIPS: ...</td>\n      <td>https://doi.org/10.1016/S0304-405X(99)00060-4</td>\n      <td>56</td>\n      <td>1</td>\n      <td>April</td>\n      <td>2000</td>\n      <td>We investigate pricing relations and the poten...</td>\n      <td>3.txt</td>\n    </tr>\n    <tr>\n      <th>4</th>\n      <td>Eighths, sixteenths, and market depth: changes...</td>\n      <td>https://doi.org/10.1016/S0304-405X(99)00061-6</td>\n      <td>56</td>\n      <td>1</td>\n      <td>April</td>\n      <td>2000</td>\n      <td>Using limit order data provided by the NYSE, w...</td>\n      <td>4.txt</td>\n    </tr>\n  </tbody>\n</table>\n</div>"
     },
     "metadata": {},
     "execution_count": 4
    }
   ],
   "source": [
    "# load meta data csv\n",
    "metadata = pd.read_csv('../JoFE_2000_2021.csv', index_col=0)\n",
    "metadata.head()"
   ]
  },
  {
   "cell_type": "code",
   "execution_count": 5,
   "metadata": {},
   "outputs": [],
   "source": [
    "def get_text(path_to_file):\n",
    "    f = open(path_to_file, \"r\", encoding='utf8')\n",
    "    text = f.read()\n",
    "    return text"
   ]
  },
  {
   "cell_type": "code",
   "execution_count": 6,
   "metadata": {},
   "outputs": [],
   "source": [
    "def get_hypothesis(text):\n",
    "\n",
    "    # return extracted hypothesis and rule number\n",
    "\n",
    "    # tokenized_text = text.splitlines()\n",
    "    # print(tokenized_text)\n",
    "\n",
    "    hypotheses = []\n",
    "    rules = []\n",
    "\n",
    "    text = text.replace('\\n', '')\n",
    "\n",
    "    # case 2:\n",
    "    res = re.findall(r'we.{1,10}hypothesize that.{1,300}\\.', text, re.I)\n",
    "    if res:\n",
    "        hypotheses += res\n",
    "        rules += [2 for _ in range(len(res))]\n",
    "\n",
    "\n",
    "    # case 3:\n",
    "    res = re.findall(r'hypothesis \\d[a-z]?[\\s:].{1,300}\\.', text, re.I)\n",
    "    if res:\n",
    "        hypotheses += res\n",
    "        rules += [3 for _ in range(len(res))]\n",
    "\n",
    "\n",
    "    # case 4:\n",
    "    res = re.findall(r'Our.{1,10}hypothesis is that.{1,300}\\.', text, re.I)\n",
    "    if res:\n",
    "        hypotheses += res\n",
    "        rules += [4 for _ in range(len(res))]\n",
    "\n",
    "    res = re.findall(r'Our.{1,10}hypothesis was that.{1,300}\\.', text, re.I)\n",
    "    if res:\n",
    "        hypotheses += res\n",
    "        rules += [4 for _ in range(len(res))]\n",
    "\n",
    "\n",
    "    # case 5:\n",
    "    res = re.findall(r'we.{5,15}the hypothesis that.{1,300}\\.', text, re.I)\n",
    "    if res:\n",
    "        hypotheses += res\n",
    "        rules += [5 for _ in range(len(res))]\n",
    "\n",
    "\n",
    "    # case 6:\n",
    "    res = re.findall(r'.{100,400}\\. To test this hypothesis', text)\n",
    "    if res:\n",
    "        hypotheses += res\n",
    "        rules += [6 for _ in range(len(res))] \n",
    "\n",
    "    res = re.findall(r'.{100,400}\\. To test these hypotheses', text)\n",
    "    if res:\n",
    "        hypotheses += res\n",
    "        rules += [6 for _ in range(len(res))] \n",
    "\n",
    "\n",
    "    return hypotheses, rules"
   ]
  },
  {
   "cell_type": "code",
   "execution_count": 7,
   "metadata": {},
   "outputs": [],
   "source": [
    "def main(file):\n",
    "    text = get_text(file)\n",
    "    return get_hypothesis(text)"
   ]
  },
  {
   "cell_type": "code",
   "execution_count": 8,
   "metadata": {},
   "outputs": [
    {
     "output_type": "execute_result",
     "data": {
      "text/plain": [
       "(['Our central hypothesis is that greater transparency in fund operating expenditures results in lower agency costs, i.e., better return performance. A key requirement for our empirical test is comparability of services received for expensed versus bundled payments.'],\n",
       " [4])"
      ]
     },
     "metadata": {},
     "execution_count": 8
    }
   ],
   "source": [
    "main(files[50])"
   ]
  },
  {
   "source": [
    "## get hypothesis from all free articles"
   ],
   "cell_type": "markdown",
   "metadata": {}
  },
  {
   "cell_type": "code",
   "execution_count": 9,
   "metadata": {},
   "outputs": [
    {
     "output_type": "stream",
     "name": "stderr",
     "text": [
      "100%|██████████| 2216/2216 [05:43<00:00,  6.45it/s]\n"
     ]
    }
   ],
   "source": [
    "results = {}\n",
    "H = pd.DataFrame()\n",
    "for file in tqdm(files):\n",
    "    # print(main(file))\n",
    "    hypotheses, rules = main(file)\n",
    "    # print('{:} hypotheses found in file {}'.format(len(hypotheses), file))    \n",
    "    if hypotheses:\n",
    "        file_names = [file for _ in range(len(hypotheses))]\n",
    "        df = pd.DataFrame({'file_name': file_names, 'hypothesis': hypotheses, 'rule': rules})\n",
    "        # print(df)\n",
    "        H = pd.concat([H, df])\n"
   ]
  },
  {
   "cell_type": "code",
   "execution_count": 10,
   "metadata": {},
   "outputs": [],
   "source": [
    "H = H.drop_duplicates()\n",
    "H.reset_index(inplace=True)\n",
    "H = H.drop('index', axis=1)\n"
   ]
  },
  {
   "cell_type": "code",
   "execution_count": 11,
   "metadata": {},
   "outputs": [
    {
     "output_type": "execute_result",
     "data": {
      "text/plain": [
       "  file_name                                         hypothesis  rule\n",
       "0  1001.txt  we hypothesize that similar agents react simil...     2\n",
       "1  1001.txt  Hypothesis 2 that if small shareholder similar...     3\n",
       "2  1001.txt  Hypothesis 4 posits that the impact of noncont...     3\n",
       "3  1001.txt  n that large changes in similarity are rare an...     6\n",
       "4  1002.txt  Our null hypothesis is that the alphas of thes...     4"
      ],
      "text/html": "<div>\n<style scoped>\n    .dataframe tbody tr th:only-of-type {\n        vertical-align: middle;\n    }\n\n    .dataframe tbody tr th {\n        vertical-align: top;\n    }\n\n    .dataframe thead th {\n        text-align: right;\n    }\n</style>\n<table border=\"1\" class=\"dataframe\">\n  <thead>\n    <tr style=\"text-align: right;\">\n      <th></th>\n      <th>file_name</th>\n      <th>hypothesis</th>\n      <th>rule</th>\n    </tr>\n  </thead>\n  <tbody>\n    <tr>\n      <th>0</th>\n      <td>1001.txt</td>\n      <td>we hypothesize that similar agents react simil...</td>\n      <td>2</td>\n    </tr>\n    <tr>\n      <th>1</th>\n      <td>1001.txt</td>\n      <td>Hypothesis 2 that if small shareholder similar...</td>\n      <td>3</td>\n    </tr>\n    <tr>\n      <th>2</th>\n      <td>1001.txt</td>\n      <td>Hypothesis 4 posits that the impact of noncont...</td>\n      <td>3</td>\n    </tr>\n    <tr>\n      <th>3</th>\n      <td>1001.txt</td>\n      <td>n that large changes in similarity are rare an...</td>\n      <td>6</td>\n    </tr>\n    <tr>\n      <th>4</th>\n      <td>1002.txt</td>\n      <td>Our null hypothesis is that the alphas of thes...</td>\n      <td>4</td>\n    </tr>\n  </tbody>\n</table>\n</div>"
     },
     "metadata": {},
     "execution_count": 11
    }
   ],
   "source": [
    "H.head()"
   ]
  },
  {
   "cell_type": "code",
   "execution_count": 12,
   "metadata": {},
   "outputs": [
    {
     "output_type": "execute_result",
     "data": {
      "text/plain": [
       "(1198, 3)"
      ]
     },
     "metadata": {},
     "execution_count": 12
    }
   ],
   "source": [
    "H.shape"
   ]
  },
  {
   "cell_type": "code",
   "execution_count": 13,
   "metadata": {},
   "outputs": [
    {
     "output_type": "execute_result",
     "data": {
      "text/plain": [
       "2    417\n",
       "3    357\n",
       "5    167\n",
       "6    133\n",
       "4    124\n",
       "Name: rule, dtype: int64"
      ]
     },
     "metadata": {},
     "execution_count": 13
    }
   ],
   "source": [
    "H.rule.value_counts()"
   ]
  },
  {
   "cell_type": "code",
   "execution_count": 14,
   "metadata": {},
   "outputs": [],
   "source": [
    "os.chdir('../../')\n",
    "H.to_csv(journal+'_extracted_hypothesis.csv', index=False)"
   ]
  },
  {
   "cell_type": "code",
   "execution_count": 15,
   "metadata": {},
   "outputs": [],
   "source": [
    "H_merged = pd.merge(metadata, H, how='right', left_on='full_text_filename', right_on='file_name')\n",
    "H_merged = H_merged.drop('file_name', axis=1)"
   ]
  },
  {
   "cell_type": "code",
   "execution_count": 16,
   "metadata": {},
   "outputs": [
    {
     "output_type": "execute_result",
     "data": {
      "text/plain": [
       "                                               title  \\\n",
       "0  Abnormal returns to rivals of acquisition targ...   \n",
       "1  When an event is not an event: the curious cas...   \n",
       "2  When an event is not an event: the curious cas...   \n",
       "3  When an event is not an event: the curious cas...   \n",
       "4         The `repricing’ of executive stock options   \n",
       "\n",
       "                                             doi  volume issue     month  \\\n",
       "0  https://doi.org/10.1016/S0304-405X(99)00048-3      55     2  February   \n",
       "1  https://doi.org/10.1016/S0304-405X(99)00045-8      55     1   January   \n",
       "2  https://doi.org/10.1016/S0304-405X(99)00045-8      55     1   January   \n",
       "3  https://doi.org/10.1016/S0304-405X(99)00045-8      55     1   January   \n",
       "4  https://doi.org/10.1016/S0304-405X(00)00053-2      57     1      July   \n",
       "\n",
       "   year                                           abstract full_text_filename  \\\n",
       "0  2000  We develop and test the Acquisition Probabilit...             14.txt   \n",
       "1  2000  Shares trading in the Bolsa Mexicana de Valore...             21.txt   \n",
       "2  2000  Shares trading in the Bolsa Mexicana de Valore...             21.txt   \n",
       "3  2000  Shares trading in the Bolsa Mexicana de Valore...             21.txt   \n",
       "4  2000  We examine a sample of firms that reset the ex...             27.txt   \n",
       "\n",
       "                                          hypothesis  rule  \n",
       "0  wever, reject the hypothesis that mean abnorma...     5  \n",
       "1  Our null hypothesis is that excess returns for...     4  \n",
       "2  Our null hypothesis is that absolute returns d...     4  \n",
       "3  we can reject the hypothesis that adding anoth...     5  \n",
       "4  We hypothesize that firms that reprice have a ...     2  "
      ],
      "text/html": "<div>\n<style scoped>\n    .dataframe tbody tr th:only-of-type {\n        vertical-align: middle;\n    }\n\n    .dataframe tbody tr th {\n        vertical-align: top;\n    }\n\n    .dataframe thead th {\n        text-align: right;\n    }\n</style>\n<table border=\"1\" class=\"dataframe\">\n  <thead>\n    <tr style=\"text-align: right;\">\n      <th></th>\n      <th>title</th>\n      <th>doi</th>\n      <th>volume</th>\n      <th>issue</th>\n      <th>month</th>\n      <th>year</th>\n      <th>abstract</th>\n      <th>full_text_filename</th>\n      <th>hypothesis</th>\n      <th>rule</th>\n    </tr>\n  </thead>\n  <tbody>\n    <tr>\n      <th>0</th>\n      <td>Abnormal returns to rivals of acquisition targ...</td>\n      <td>https://doi.org/10.1016/S0304-405X(99)00048-3</td>\n      <td>55</td>\n      <td>2</td>\n      <td>February</td>\n      <td>2000</td>\n      <td>We develop and test the Acquisition Probabilit...</td>\n      <td>14.txt</td>\n      <td>wever, reject the hypothesis that mean abnorma...</td>\n      <td>5</td>\n    </tr>\n    <tr>\n      <th>1</th>\n      <td>When an event is not an event: the curious cas...</td>\n      <td>https://doi.org/10.1016/S0304-405X(99)00045-8</td>\n      <td>55</td>\n      <td>1</td>\n      <td>January</td>\n      <td>2000</td>\n      <td>Shares trading in the Bolsa Mexicana de Valore...</td>\n      <td>21.txt</td>\n      <td>Our null hypothesis is that excess returns for...</td>\n      <td>4</td>\n    </tr>\n    <tr>\n      <th>2</th>\n      <td>When an event is not an event: the curious cas...</td>\n      <td>https://doi.org/10.1016/S0304-405X(99)00045-8</td>\n      <td>55</td>\n      <td>1</td>\n      <td>January</td>\n      <td>2000</td>\n      <td>Shares trading in the Bolsa Mexicana de Valore...</td>\n      <td>21.txt</td>\n      <td>Our null hypothesis is that absolute returns d...</td>\n      <td>4</td>\n    </tr>\n    <tr>\n      <th>3</th>\n      <td>When an event is not an event: the curious cas...</td>\n      <td>https://doi.org/10.1016/S0304-405X(99)00045-8</td>\n      <td>55</td>\n      <td>1</td>\n      <td>January</td>\n      <td>2000</td>\n      <td>Shares trading in the Bolsa Mexicana de Valore...</td>\n      <td>21.txt</td>\n      <td>we can reject the hypothesis that adding anoth...</td>\n      <td>5</td>\n    </tr>\n    <tr>\n      <th>4</th>\n      <td>The `repricing’ of executive stock options</td>\n      <td>https://doi.org/10.1016/S0304-405X(00)00053-2</td>\n      <td>57</td>\n      <td>1</td>\n      <td>July</td>\n      <td>2000</td>\n      <td>We examine a sample of firms that reset the ex...</td>\n      <td>27.txt</td>\n      <td>We hypothesize that firms that reprice have a ...</td>\n      <td>2</td>\n    </tr>\n  </tbody>\n</table>\n</div>"
     },
     "metadata": {},
     "execution_count": 16
    }
   ],
   "source": [
    "H_merged.head()"
   ]
  },
  {
   "cell_type": "code",
   "execution_count": 17,
   "metadata": {},
   "outputs": [],
   "source": [
    "H_merged.to_csv(journal+'_extracted_hypothesis_with_paper_info.csv')"
   ]
  },
  {
   "cell_type": "code",
   "execution_count": null,
   "metadata": {},
   "outputs": [],
   "source": []
  }
 ]
}