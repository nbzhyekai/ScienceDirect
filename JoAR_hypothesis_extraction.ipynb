{
 "metadata": {
  "language_info": {
   "codemirror_mode": {
    "name": "ipython",
    "version": 3
   },
   "file_extension": ".py",
   "mimetype": "text/x-python",
   "name": "python",
   "nbconvert_exporter": "python",
   "pygments_lexer": "ipython3",
   "version": "3.8.3"
  },
  "orig_nbformat": 2,
  "kernelspec": {
   "name": "python383jvsc74a57bd05af03e6f6884cdcbf495aa98cbd8d63d5d0ed05506dbd026ba0a4981213ae30b",
   "display_name": "Python 3.8.3 64-bit ('base': conda)"
  }
 },
 "nbformat": 4,
 "nbformat_minor": 2,
 "cells": [
  {
   "cell_type": "code",
   "execution_count": 1,
   "metadata": {},
   "outputs": [],
   "source": [
    "import re\n",
    "import glob\n",
    "import pandas as pd\n",
    "from tqdm import tqdm"
   ]
  },
  {
   "cell_type": "code",
   "execution_count": 2,
   "metadata": {},
   "outputs": [],
   "source": [
    "journal = 'JoAR'"
   ]
  },
  {
   "cell_type": "code",
   "execution_count": 3,
   "metadata": {},
   "outputs": [],
   "source": [
    "# get all files\n",
    "import os\n",
    "# change dir\n",
    "os.chdir('papers/JoAR_2001_2021_full_text/')\n",
    "files = glob.glob(\"*.txt\")\n"
   ]
  },
  {
   "cell_type": "code",
   "execution_count": 4,
   "metadata": {},
   "outputs": [
    {
     "output_type": "execute_result",
     "data": {
      "text/plain": [
       "                                                 doi  \\\n",
       "0  https://onlinelibrary-wiley-com.libproxy1.nus....   \n",
       "1  https://onlinelibrary-wiley-com.libproxy1.nus....   \n",
       "2  https://onlinelibrary-wiley-com.libproxy1.nus....   \n",
       "3  https://onlinelibrary-wiley-com.libproxy1.nus....   \n",
       "4  https://onlinelibrary-wiley-com.libproxy1.nus....   \n",
       "\n",
       "                                               title  publish_date  \\\n",
       "0  Talk Less, Learn More: Strategic Disclosure in...            26   \n",
       "1  Economic Downturns and the Informativeness of ...            22   \n",
       "2  Voice of the Customers: Local Trust Culture an...            21   \n",
       "3  Debiasing the Measurement of Conditional Conse...            21   \n",
       "4  Do Majority‐of‐Minority Shareholder Voting Rig...            30   \n",
       "\n",
       "  publish_month  publish_year  volume              issue  \\\n",
       "0         April          2021     NaN  Accepted Articles   \n",
       "1         April          2021     NaN  Accepted Articles   \n",
       "2         April          2021     NaN  Accepted Articles   \n",
       "3         April          2021     NaN  Accepted Articles   \n",
       "4         March          2021     NaN  Accepted Articles   \n",
       "\n",
       "                                            abstract full_text_filename  \n",
       "0  We examine how options trading affects volunta...                NaN  \n",
       "1  We examine how options trading affects volunta...                NaN  \n",
       "2  We use complaints filed with the Consumer Fina...                NaN  \n",
       "3  Basu's [1997] measurement of conditional conse...                NaN  \n",
       "4  In the presence of business groups, the exprop...              4.txt  "
      ],
      "text/html": "<div>\n<style scoped>\n    .dataframe tbody tr th:only-of-type {\n        vertical-align: middle;\n    }\n\n    .dataframe tbody tr th {\n        vertical-align: top;\n    }\n\n    .dataframe thead th {\n        text-align: right;\n    }\n</style>\n<table border=\"1\" class=\"dataframe\">\n  <thead>\n    <tr style=\"text-align: right;\">\n      <th></th>\n      <th>doi</th>\n      <th>title</th>\n      <th>publish_date</th>\n      <th>publish_month</th>\n      <th>publish_year</th>\n      <th>volume</th>\n      <th>issue</th>\n      <th>abstract</th>\n      <th>full_text_filename</th>\n    </tr>\n  </thead>\n  <tbody>\n    <tr>\n      <th>0</th>\n      <td>https://onlinelibrary-wiley-com.libproxy1.nus....</td>\n      <td>Talk Less, Learn More: Strategic Disclosure in...</td>\n      <td>26</td>\n      <td>April</td>\n      <td>2021</td>\n      <td>NaN</td>\n      <td>Accepted Articles</td>\n      <td>We examine how options trading affects volunta...</td>\n      <td>NaN</td>\n    </tr>\n    <tr>\n      <th>1</th>\n      <td>https://onlinelibrary-wiley-com.libproxy1.nus....</td>\n      <td>Economic Downturns and the Informativeness of ...</td>\n      <td>22</td>\n      <td>April</td>\n      <td>2021</td>\n      <td>NaN</td>\n      <td>Accepted Articles</td>\n      <td>We examine how options trading affects volunta...</td>\n      <td>NaN</td>\n    </tr>\n    <tr>\n      <th>2</th>\n      <td>https://onlinelibrary-wiley-com.libproxy1.nus....</td>\n      <td>Voice of the Customers: Local Trust Culture an...</td>\n      <td>21</td>\n      <td>April</td>\n      <td>2021</td>\n      <td>NaN</td>\n      <td>Accepted Articles</td>\n      <td>We use complaints filed with the Consumer Fina...</td>\n      <td>NaN</td>\n    </tr>\n    <tr>\n      <th>3</th>\n      <td>https://onlinelibrary-wiley-com.libproxy1.nus....</td>\n      <td>Debiasing the Measurement of Conditional Conse...</td>\n      <td>21</td>\n      <td>April</td>\n      <td>2021</td>\n      <td>NaN</td>\n      <td>Accepted Articles</td>\n      <td>Basu's [1997] measurement of conditional conse...</td>\n      <td>NaN</td>\n    </tr>\n    <tr>\n      <th>4</th>\n      <td>https://onlinelibrary-wiley-com.libproxy1.nus....</td>\n      <td>Do Majority‐of‐Minority Shareholder Voting Rig...</td>\n      <td>30</td>\n      <td>March</td>\n      <td>2021</td>\n      <td>NaN</td>\n      <td>Accepted Articles</td>\n      <td>In the presence of business groups, the exprop...</td>\n      <td>4.txt</td>\n    </tr>\n  </tbody>\n</table>\n</div>"
     },
     "metadata": {},
     "execution_count": 4
    }
   ],
   "source": [
    "# load meta data csv\n",
    "metadata = pd.read_csv('../JoAR_2001_2021.csv', index_col=0)\n",
    "metadata.head()"
   ]
  },
  {
   "cell_type": "code",
   "execution_count": 5,
   "metadata": {},
   "outputs": [],
   "source": [
    "def get_text(path_to_file):\n",
    "    f = open(path_to_file, \"r\", encoding='utf8')\n",
    "    text = f.read()\n",
    "    return text"
   ]
  },
  {
   "cell_type": "code",
   "execution_count": 6,
   "metadata": {},
   "outputs": [],
   "source": [
    "def get_hypothesis(text):\n",
    "\n",
    "    # return extracted hypothesis and rule number\n",
    "\n",
    "    # tokenized_text = text.splitlines()\n",
    "    # print(tokenized_text)\n",
    "\n",
    "    hypotheses = []\n",
    "    rules = []\n",
    "\n",
    "    text = text.replace('\\n', '')\n",
    "\n",
    "    # case 2:\n",
    "    res = re.findall(r'we.{1,10}hypothesize that.{1,300}\\.', text, re.I)\n",
    "    if res:\n",
    "        hypotheses += res\n",
    "        rules += [2 for _ in range(len(res))]\n",
    "\n",
    "\n",
    "    # case 3:\n",
    "    res = re.findall(r'hypothesis \\d[a-z]?[\\s:].{1,300}\\.', text, re.I)\n",
    "    if res:\n",
    "        hypotheses += res\n",
    "        rules += [3 for _ in range(len(res))]\n",
    "\n",
    "\n",
    "    # case 4:\n",
    "    res = re.findall(r'Our.{1,10}hypothesis is that.{1,300}\\.', text, re.I)\n",
    "    if res:\n",
    "        hypotheses += res\n",
    "        rules += [4 for _ in range(len(res))]\n",
    "\n",
    "    res = re.findall(r'Our.{1,10}hypothesis was that.{1,300}\\.', text, re.I)\n",
    "    if res:\n",
    "        hypotheses += res\n",
    "        rules += [4 for _ in range(len(res))]\n",
    "\n",
    "\n",
    "    # case 5:\n",
    "    res = re.findall(r'we.{5,15}the hypothesis that.{1,300}\\.', text, re.I)\n",
    "    if res:\n",
    "        hypotheses += res\n",
    "        rules += [5 for _ in range(len(res))]\n",
    "\n",
    "\n",
    "    # case 6:\n",
    "    res = re.findall(r'.{100,400}\\. To test this hypothesis', text)\n",
    "    if res:\n",
    "        hypotheses += res\n",
    "        rules += [6 for _ in range(len(res))] \n",
    "\n",
    "    res = re.findall(r'.{100,400}\\. To test these hypotheses', text)\n",
    "    if res:\n",
    "        hypotheses += res\n",
    "        rules += [6 for _ in range(len(res))] \n",
    "\n",
    "\n",
    "    return hypotheses, rules"
   ]
  },
  {
   "cell_type": "code",
   "execution_count": 7,
   "metadata": {},
   "outputs": [],
   "source": [
    "def main(file):\n",
    "    text = get_text(file)\n",
    "    return get_hypothesis(text)"
   ]
  },
  {
   "cell_type": "code",
   "execution_count": 8,
   "metadata": {},
   "outputs": [
    {
     "output_type": "execute_result",
     "data": {
      "text/plain": [
       "([], [])"
      ]
     },
     "metadata": {},
     "execution_count": 8
    }
   ],
   "source": [
    "main(files[50])"
   ]
  },
  {
   "source": [
    "## get hypothesis from all free articles"
   ],
   "cell_type": "markdown",
   "metadata": {}
  },
  {
   "cell_type": "code",
   "execution_count": 9,
   "metadata": {},
   "outputs": [
    {
     "output_type": "stream",
     "name": "stderr",
     "text": [
      "100%|██████████| 523/523 [01:39<00:00,  5.25it/s]\n"
     ]
    }
   ],
   "source": [
    "results = {}\n",
    "H = pd.DataFrame()\n",
    "for file in tqdm(files):\n",
    "    # print(main(file))\n",
    "    hypotheses, rules = main(file)\n",
    "    # print('{:} hypotheses found in file {}'.format(len(hypotheses), file))    \n",
    "    if hypotheses:\n",
    "        file_names = [file for _ in range(len(hypotheses))]\n",
    "        df = pd.DataFrame({'file_name': file_names, 'hypothesis': hypotheses, 'rule': rules})\n",
    "        # print(df)\n",
    "        H = pd.concat([H, df])\n"
   ]
  },
  {
   "cell_type": "code",
   "execution_count": 10,
   "metadata": {},
   "outputs": [],
   "source": [
    "H = H.drop_duplicates()\n",
    "H.reset_index(inplace=True)\n",
    "H = H.drop('index', axis=1)\n"
   ]
  },
  {
   "cell_type": "code",
   "execution_count": 11,
   "metadata": {},
   "outputs": [
    {
     "output_type": "execute_result",
     "data": {
      "text/plain": [
       "  file_name                                         hypothesis  rule\n",
       "0    10.txt  We hypothesize that firms with less severe age...     2\n",
       "1    10.txt  We hypothesize that firms with relatively low ...     2\n",
       "2    10.txt  We hypothesize that, in weak‐institution count...     2\n",
       "3    10.txt  We hypothesize that in weak‐institution countr...     2\n",
       "4    10.txt  We hypothesize that the decreased reliance of ...     2"
      ],
      "text/html": "<div>\n<style scoped>\n    .dataframe tbody tr th:only-of-type {\n        vertical-align: middle;\n    }\n\n    .dataframe tbody tr th {\n        vertical-align: top;\n    }\n\n    .dataframe thead th {\n        text-align: right;\n    }\n</style>\n<table border=\"1\" class=\"dataframe\">\n  <thead>\n    <tr style=\"text-align: right;\">\n      <th></th>\n      <th>file_name</th>\n      <th>hypothesis</th>\n      <th>rule</th>\n    </tr>\n  </thead>\n  <tbody>\n    <tr>\n      <th>0</th>\n      <td>10.txt</td>\n      <td>We hypothesize that firms with less severe age...</td>\n      <td>2</td>\n    </tr>\n    <tr>\n      <th>1</th>\n      <td>10.txt</td>\n      <td>We hypothesize that firms with relatively low ...</td>\n      <td>2</td>\n    </tr>\n    <tr>\n      <th>2</th>\n      <td>10.txt</td>\n      <td>We hypothesize that, in weak‐institution count...</td>\n      <td>2</td>\n    </tr>\n    <tr>\n      <th>3</th>\n      <td>10.txt</td>\n      <td>We hypothesize that in weak‐institution countr...</td>\n      <td>2</td>\n    </tr>\n    <tr>\n      <th>4</th>\n      <td>10.txt</td>\n      <td>We hypothesize that the decreased reliance of ...</td>\n      <td>2</td>\n    </tr>\n  </tbody>\n</table>\n</div>"
     },
     "metadata": {},
     "execution_count": 11
    }
   ],
   "source": [
    "H.head()"
   ]
  },
  {
   "cell_type": "code",
   "execution_count": 12,
   "metadata": {},
   "outputs": [
    {
     "output_type": "execute_result",
     "data": {
      "text/plain": [
       "(300, 3)"
      ]
     },
     "metadata": {},
     "execution_count": 12
    }
   ],
   "source": [
    "H.shape"
   ]
  },
  {
   "cell_type": "code",
   "execution_count": 13,
   "metadata": {},
   "outputs": [
    {
     "output_type": "execute_result",
     "data": {
      "text/plain": [
       "2    147\n",
       "3     83\n",
       "4     33\n",
       "6     28\n",
       "5      9\n",
       "Name: rule, dtype: int64"
      ]
     },
     "metadata": {},
     "execution_count": 13
    }
   ],
   "source": [
    "H.rule.value_counts()"
   ]
  },
  {
   "cell_type": "code",
   "execution_count": 14,
   "metadata": {},
   "outputs": [],
   "source": [
    "os.chdir('../../')\n",
    "H.to_csv(journal+'_extracted_hypothesis.csv', index=False)"
   ]
  },
  {
   "cell_type": "code",
   "execution_count": 15,
   "metadata": {},
   "outputs": [],
   "source": [
    "H_merged = pd.merge(metadata, H, how='right', left_on='full_text_filename', right_on='file_name')\n",
    "H_merged = H_merged.drop('file_name', axis=1)"
   ]
  },
  {
   "cell_type": "code",
   "execution_count": 16,
   "metadata": {},
   "outputs": [
    {
     "output_type": "execute_result",
     "data": {
      "text/plain": [
       "                                                 doi  \\\n",
       "0  https://onlinelibrary-wiley-com.libproxy1.nus....   \n",
       "1  https://onlinelibrary-wiley-com.libproxy1.nus....   \n",
       "2  https://onlinelibrary-wiley-com.libproxy1.nus....   \n",
       "3  https://onlinelibrary-wiley-com.libproxy1.nus....   \n",
       "4  https://onlinelibrary-wiley-com.libproxy1.nus....   \n",
       "\n",
       "                                               title  publish_date  \\\n",
       "0  Show Me the Money! Dividend Policy in Countrie...            30   \n",
       "1  Show Me the Money! Dividend Policy in Countrie...            30   \n",
       "2  Show Me the Money! Dividend Policy in Countrie...            30   \n",
       "3  Show Me the Money! Dividend Policy in Countrie...            30   \n",
       "4  Show Me the Money! Dividend Policy in Countrie...            30   \n",
       "\n",
       "  publish_month  publish_year  volume              issue  \\\n",
       "0         March          2021     NaN  Accepted Articles   \n",
       "1         March          2021     NaN  Accepted Articles   \n",
       "2         March          2021     NaN  Accepted Articles   \n",
       "3         March          2021     NaN  Accepted Articles   \n",
       "4         March          2021     NaN  Accepted Articles   \n",
       "\n",
       "                                            abstract full_text_filename  \\\n",
       "0  We hypothesize that, in weak‐institution count...             10.txt   \n",
       "1  We hypothesize that, in weak‐institution count...             10.txt   \n",
       "2  We hypothesize that, in weak‐institution count...             10.txt   \n",
       "3  We hypothesize that, in weak‐institution count...             10.txt   \n",
       "4  We hypothesize that, in weak‐institution count...             10.txt   \n",
       "\n",
       "                                          hypothesis  rule  \n",
       "0  We hypothesize that firms with less severe age...     2  \n",
       "1  We hypothesize that firms with relatively low ...     2  \n",
       "2  We hypothesize that, in weak‐institution count...     2  \n",
       "3  We hypothesize that in weak‐institution countr...     2  \n",
       "4  We hypothesize that the decreased reliance of ...     2  "
      ],
      "text/html": "<div>\n<style scoped>\n    .dataframe tbody tr th:only-of-type {\n        vertical-align: middle;\n    }\n\n    .dataframe tbody tr th {\n        vertical-align: top;\n    }\n\n    .dataframe thead th {\n        text-align: right;\n    }\n</style>\n<table border=\"1\" class=\"dataframe\">\n  <thead>\n    <tr style=\"text-align: right;\">\n      <th></th>\n      <th>doi</th>\n      <th>title</th>\n      <th>publish_date</th>\n      <th>publish_month</th>\n      <th>publish_year</th>\n      <th>volume</th>\n      <th>issue</th>\n      <th>abstract</th>\n      <th>full_text_filename</th>\n      <th>hypothesis</th>\n      <th>rule</th>\n    </tr>\n  </thead>\n  <tbody>\n    <tr>\n      <th>0</th>\n      <td>https://onlinelibrary-wiley-com.libproxy1.nus....</td>\n      <td>Show Me the Money! Dividend Policy in Countrie...</td>\n      <td>30</td>\n      <td>March</td>\n      <td>2021</td>\n      <td>NaN</td>\n      <td>Accepted Articles</td>\n      <td>We hypothesize that, in weak‐institution count...</td>\n      <td>10.txt</td>\n      <td>We hypothesize that firms with less severe age...</td>\n      <td>2</td>\n    </tr>\n    <tr>\n      <th>1</th>\n      <td>https://onlinelibrary-wiley-com.libproxy1.nus....</td>\n      <td>Show Me the Money! Dividend Policy in Countrie...</td>\n      <td>30</td>\n      <td>March</td>\n      <td>2021</td>\n      <td>NaN</td>\n      <td>Accepted Articles</td>\n      <td>We hypothesize that, in weak‐institution count...</td>\n      <td>10.txt</td>\n      <td>We hypothesize that firms with relatively low ...</td>\n      <td>2</td>\n    </tr>\n    <tr>\n      <th>2</th>\n      <td>https://onlinelibrary-wiley-com.libproxy1.nus....</td>\n      <td>Show Me the Money! Dividend Policy in Countrie...</td>\n      <td>30</td>\n      <td>March</td>\n      <td>2021</td>\n      <td>NaN</td>\n      <td>Accepted Articles</td>\n      <td>We hypothesize that, in weak‐institution count...</td>\n      <td>10.txt</td>\n      <td>We hypothesize that, in weak‐institution count...</td>\n      <td>2</td>\n    </tr>\n    <tr>\n      <th>3</th>\n      <td>https://onlinelibrary-wiley-com.libproxy1.nus....</td>\n      <td>Show Me the Money! Dividend Policy in Countrie...</td>\n      <td>30</td>\n      <td>March</td>\n      <td>2021</td>\n      <td>NaN</td>\n      <td>Accepted Articles</td>\n      <td>We hypothesize that, in weak‐institution count...</td>\n      <td>10.txt</td>\n      <td>We hypothesize that in weak‐institution countr...</td>\n      <td>2</td>\n    </tr>\n    <tr>\n      <th>4</th>\n      <td>https://onlinelibrary-wiley-com.libproxy1.nus....</td>\n      <td>Show Me the Money! Dividend Policy in Countrie...</td>\n      <td>30</td>\n      <td>March</td>\n      <td>2021</td>\n      <td>NaN</td>\n      <td>Accepted Articles</td>\n      <td>We hypothesize that, in weak‐institution count...</td>\n      <td>10.txt</td>\n      <td>We hypothesize that the decreased reliance of ...</td>\n      <td>2</td>\n    </tr>\n  </tbody>\n</table>\n</div>"
     },
     "metadata": {},
     "execution_count": 16
    }
   ],
   "source": [
    "H_merged.head()"
   ]
  },
  {
   "cell_type": "code",
   "execution_count": 17,
   "metadata": {},
   "outputs": [],
   "source": [
    "H_merged.to_csv(journal+'_extracted_hypothesis_with_paper_info.csv')"
   ]
  },
  {
   "cell_type": "code",
   "execution_count": null,
   "metadata": {},
   "outputs": [],
   "source": []
  }
 ]
}