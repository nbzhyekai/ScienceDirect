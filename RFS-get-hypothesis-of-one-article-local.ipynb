{
 "metadata": {
  "language_info": {
   "codemirror_mode": {
    "name": "ipython",
    "version": 3
   },
   "file_extension": ".py",
   "mimetype": "text/x-python",
   "name": "python",
   "nbconvert_exporter": "python",
   "pygments_lexer": "ipython3",
   "version": "3.8.3"
  },
  "orig_nbformat": 2,
  "kernelspec": {
   "name": "python383jvsc74a57bd05af03e6f6884cdcbf495aa98cbd8d63d5d0ed05506dbd026ba0a4981213ae30b",
   "display_name": "Python 3.8.3 64-bit ('base': conda)"
  }
 },
 "nbformat": 4,
 "nbformat_minor": 2,
 "cells": [
  {
   "cell_type": "code",
   "execution_count": 1,
   "metadata": {},
   "outputs": [],
   "source": [
    "import requests\n",
    "from bs4 import BeautifulSoup\n",
    "import re\n",
    "import json"
   ]
  },
  {
   "cell_type": "code",
   "execution_count": 2,
   "metadata": {},
   "outputs": [],
   "source": [
    "# import codecs\n",
    "# f = codecs.open(\"papers/RFS_2000_2021_full_text_html/136.html\", 'r', 'utf-8')\n"
   ]
  },
  {
   "cell_type": "code",
   "execution_count": 3,
   "metadata": {},
   "outputs": [],
   "source": [
    "with open(\"papers/RFS_2000_2021_full_text_html/136.html\", encoding='utf-8') as fp:\n",
    "    soup = BeautifulSoup(fp, 'html.parser')"
   ]
  },
  {
   "source": [
    "## Case 1: "
   ],
   "cell_type": "markdown",
   "metadata": {}
  },
  {
   "cell_type": "code",
   "execution_count": 4,
   "metadata": {},
   "outputs": [],
   "source": [
    "results = soup.find_all(name='div', attrs='statement')\n",
    "\n",
    "for result in results:\n",
    "    content = result.text\n",
    "    # print(content)\n",
    "    if re.search('hypothes', content, re.I):\n",
    "        print(content)"
   ]
  },
  {
   "source": [
    "## Case 2:\n",
    "we (thus) hypothesize that ..."
   ],
   "cell_type": "markdown",
   "metadata": {}
  },
  {
   "cell_type": "code",
   "execution_count": 5,
   "metadata": {},
   "outputs": [
    {
     "output_type": "execute_result",
     "data": {
      "text/plain": [
       "'we hypothesize that the strength of the macroeconomic signal depends on whether investors increase the weight of the sector in the portfolio (strong signal) versus investors trading a small number of stocks in the sector.'"
      ]
     },
     "metadata": {},
     "execution_count": 5
    }
   ],
   "source": [
    "text = \"We conjecture that, beyond the level of active sector orderflow, its composition may be important. Specifically, we hypothesize that the strength of the macroeconomic signal depends on whether investors increase the weight of the sector in the portfolio (strong signal) versus investors trading a small number of stocks in the sector.\"\n",
    "\n",
    "re.search('we.{1,10}hypothesize that.{1,500}\\.', text, re.I).group(0)"
   ]
  },
  {
   "cell_type": "code",
   "execution_count": 6,
   "metadata": {},
   "outputs": [
    {
     "output_type": "execute_result",
     "data": {
      "text/plain": [
       "'we hypothesize that investors, such as blockholders, active investors, or those with short-term horizons, might withhold stock from the equity lending market because of concerns that short selling may lead to a decline in price, have negative feedback effects on corporate policies, and may lead to an increase in the risk of losing monitoring control.'"
      ]
     },
     "metadata": {},
     "execution_count": 6
    }
   ],
   "source": [
    "text = \"In summary, we hypothesize that investors, such as blockholders, active investors, or those with short-term horizons, might withhold stock from the equity lending market because of concerns that short selling may lead to a decline in price, have negative feedback effects on corporate policies, and may lead to an increase in the risk of losing monitoring control. Consequently, stocks with ownership tilted towards larger holdings, investors with short-term horizons, or active investors should exhibit lower lending supply and greater short-sale constraints.\"\n",
    "\n",
    "re.search('we.{1,10}hypothesize that.{1,500}\\.', text, re.I).group(0)\n"
   ]
  },
  {
   "cell_type": "code",
   "execution_count": 7,
   "metadata": {},
   "outputs": [],
   "source": [
    "results = soup.find_all(name='p', attrs='chapter-para')\n",
    "\n",
    "for result in results:\n",
    "    content = result.text\n",
    "    # print(content)\n",
    "    try:\n",
    "        res = re.search('we.{1,10}hypothesize that.{1,300}\\.', content, re.I)\n",
    "        if res:\n",
    "            print(res.group(0))\n",
    "    except:\n",
    "        pass"
   ]
  },
  {
   "source": [
    "## Case 3\n",
    "Hypothesis 1: Investors holding equity pay more attention to their investments in rising stock markets than in falling markets\n",
    "Hypothesis 1a: We expect firm value to decrease for producers that face an increase in basis risk.\n"
   ],
   "cell_type": "markdown",
   "metadata": {}
  },
  {
   "cell_type": "code",
   "execution_count": 8,
   "metadata": {},
   "outputs": [],
   "source": [
    "results = soup.find_all(name='p', attrs='chapter-para')\n",
    "\n",
    "for result in results:\n",
    "    content = result.text\n",
    "    # print(content)\n",
    "    try:\n",
    "        res = re.search('hypothesis \\d[a-z]?[\\s:].{1,300}', content, re.I)\n",
    "        if res:\n",
    "            print(res.group(0))\n",
    "    except:\n",
    "        pass"
   ]
  },
  {
   "source": [],
   "cell_type": "markdown",
   "metadata": {}
  },
  {
   "cell_type": "code",
   "execution_count": 9,
   "metadata": {},
   "outputs": [],
   "source": [
    "results = soup.find_all(name='p', attrs='chapter-para')\n",
    "\n",
    "for result in results:\n",
    "    content = result.text\n",
    "    # print(content)\n",
    "    try:\n",
    "        res = re.search('hypothesis \\d[a-z]?[\\s:].{1,300}', content, re.I)\n",
    "        if res:\n",
    "            print(res.group(0))\n",
    "    except:\n",
    "        pass"
   ]
  },
  {
   "source": [
    "## Case 4:\n",
    "\n",
    "our hypothesis is that .../ our working hypothesis was that .../ our main hypothesis is that ..."
   ],
   "cell_type": "markdown",
   "metadata": {}
  },
  {
   "cell_type": "code",
   "execution_count": 10,
   "metadata": {},
   "outputs": [],
   "source": [
    "results = soup.find_all(name='p', attrs='chapter-para')\n",
    "\n",
    "for result in results:\n",
    "    # print(result)\n",
    "    content = result.text\n",
    "    # print(content)\n",
    "    try:\n",
    "        res = re.search(r'Our.{1,10}hypothesis (\\bis\\b|\\bwas\\b) that.{1,300}\\.', content, re.I)\n",
    "        if res:\n",
    "            print(res.group(0))\n",
    "    except:\n",
    "        pass"
   ]
  },
  {
   "source": [
    "## Case 5:\n",
    "\n",
    "we examine/test/investiage the hypothesis that ..."
   ],
   "cell_type": "markdown",
   "metadata": {}
  },
  {
   "cell_type": "code",
   "execution_count": 11,
   "metadata": {},
   "outputs": [],
   "source": [
    "results = soup.find_all(name='p', attrs='chapter-para')\n",
    "\n",
    "for result in results:\n",
    "    # print(result)\n",
    "    content = result.text\n",
    "    # print(content)\n",
    "    try:\n",
    "        res = re.search(r'we.{5,15}the hypothesis that.{1,300}\\.', content, re.I)\n",
    "        if res:\n",
    "            print(res.group(0))\n",
    "    except:\n",
    "        pass"
   ]
  },
  {
   "source": [
    "## Case 6\n",
    "\n",
    "{hypothesis} To test this hypothesis/these hypotheses"
   ],
   "cell_type": "markdown",
   "metadata": {}
  },
  {
   "cell_type": "code",
   "execution_count": 12,
   "metadata": {},
   "outputs": [],
   "source": [
    "results = soup.find_all(name='p', attrs='chapter-para')\n",
    "\n",
    "for result in results:\n",
    "    # print(result)\n",
    "    content = result.text\n",
    "    # print(content)\n",
    "    try:\n",
    "        res = re.search(r'.{100,400}\\. To test this hypothesis', content)\n",
    "        if res:\n",
    "            print(res.group(0)[:-24]) # remove \"To test this hypothesis\"\n",
    "\n",
    "        res = re.search(r'.{100,400}\\. To test these hypotheses', content)\n",
    "        if res:\n",
    "            print(res.group(0)[:-24]) # remove \"To test this hypothesis\"\n",
    "    except:\n",
    "        pass"
   ]
  },
  {
   "cell_type": "code",
   "execution_count": null,
   "metadata": {},
   "outputs": [],
   "source": []
  }
 ]
}