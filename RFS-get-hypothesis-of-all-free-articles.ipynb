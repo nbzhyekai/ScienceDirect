{
 "metadata": {
  "language_info": {
   "codemirror_mode": {
    "name": "ipython",
    "version": 3
   },
   "file_extension": ".py",
   "mimetype": "text/x-python",
   "name": "python",
   "nbconvert_exporter": "python",
   "pygments_lexer": "ipython3",
   "version": "3.8.3"
  },
  "orig_nbformat": 2,
  "kernelspec": {
   "name": "python383jvsc74a57bd05af03e6f6884cdcbf495aa98cbd8d63d5d0ed05506dbd026ba0a4981213ae30b",
   "display_name": "Python 3.8.3 64-bit ('base': conda)"
  }
 },
 "nbformat": 4,
 "nbformat_minor": 2,
 "cells": [
  {
   "cell_type": "code",
   "execution_count": 1,
   "metadata": {},
   "outputs": [],
   "source": [
    "import requests\n",
    "from bs4 import BeautifulSoup\n",
    "import re\n",
    "import json\n",
    "import pandas as pd\n",
    "from tqdm import tqdm"
   ]
  },
  {
   "cell_type": "code",
   "execution_count": 2,
   "metadata": {},
   "outputs": [],
   "source": [
    "# get all files\n",
    "import os\n",
    "import glob\n",
    "# change dir\n",
    "os.chdir('papers/RFS_2000_2021_full_text_html')\n",
    "files = glob.glob(\"*.html\")"
   ]
  },
  {
   "cell_type": "code",
   "execution_count": 3,
   "metadata": {},
   "outputs": [
    {
     "output_type": "execute_result",
     "data": {
      "text/plain": [
       "['0.html', '1.html', '10.html']"
      ]
     },
     "metadata": {},
     "execution_count": 3
    }
   ],
   "source": [
    "files[:3]"
   ]
  },
  {
   "cell_type": "code",
   "execution_count": 3,
   "metadata": {},
   "outputs": [],
   "source": []
  },
  {
   "cell_type": "code",
   "execution_count": 4,
   "metadata": {},
   "outputs": [],
   "source": [
    "def get_hypothesis(soup):\n",
    "\n",
    "    hypotheses = []\n",
    "    # case 1:\n",
    "    results = soup.find_all(name='div', attrs='statement')\n",
    "\n",
    "    for result in results:\n",
    "        content = result.text\n",
    "        # print(content)\n",
    "        match = re.search('hypothes', content, re.I)\n",
    "        if match:\n",
    "            hypotheses.append(content)\n",
    "\n",
    "    # case 2:\n",
    "    results = soup.find_all(name='p', attrs='chapter-para')\n",
    "\n",
    "    for result in results:\n",
    "        content = result.text\n",
    "        # print(content)\n",
    "        try:\n",
    "            res = re.search('we.{1,10}hypothesize that.{1,300}\\.', content, re.I)\n",
    "            if res:\n",
    "                hypotheses.append(res.group(0))\n",
    "        except:\n",
    "            pass\n",
    "\n",
    "    # case 3:\n",
    "    for result in results:\n",
    "        content = result.text\n",
    "        # print(content)\n",
    "        try:\n",
    "            res = re.search('hypothesis \\d[a-z]?[\\s:].{1,300}', content, re.I)\n",
    "            if res:\n",
    "                hypotheses.append(res.group(0))\n",
    "        except:\n",
    "            pass\n",
    "\n",
    "    # case 4:\n",
    "    for result in results:\n",
    "        # print(result)\n",
    "        content = result.text\n",
    "        # print(content)\n",
    "        try:\n",
    "            res = re.search(r'Our.{1,10}hypothesis (\\bis\\b|\\bwas\\b) that.{1,300}\\.', content, re.I)\n",
    "            if res:\n",
    "                hypotheses.append(res.group(0))\n",
    "        except:\n",
    "            pass\n",
    "\n",
    "    # case 5:\n",
    "    for result in results:\n",
    "        # print(result)\n",
    "        content = result.text\n",
    "        # print(content)\n",
    "        try:\n",
    "            res = re.search(r'we.{5,15}the hypothesis that.{1,300}\\.', content, re.I)\n",
    "            if res:\n",
    "                hypotheses.append(res.group(0))\n",
    "        except:\n",
    "            pass\n",
    "\n",
    "    # case 6:\n",
    "    for result in results:\n",
    "        # print(result)\n",
    "        content = result.text\n",
    "        # print(content)\n",
    "        try:\n",
    "            res = re.search(r'.{100,400}\\. To test this hypothesis', content)\n",
    "            if res:\n",
    "                hypotheses.append(res.group(0)[:-24]) # remove \"To test this hypothesis\"\n",
    "\n",
    "            res = re.search(r'.{100,400}\\. To test these hypotheses', content)\n",
    "            if res:\n",
    "                hypotheses.append(res.group(0)[:-24]) # remove \"To test this hypothesis\"\n",
    "        except:\n",
    "            pass\n",
    "\n",
    "\n",
    "    return hypotheses"
   ]
  },
  {
   "cell_type": "code",
   "execution_count": 7,
   "metadata": {},
   "outputs": [],
   "source": [
    "def main(file):\n",
    "    with open(file, encoding='utf-8') as fp:\n",
    "        soup = BeautifulSoup(fp, 'html.parser')\n",
    "    return get_hypothesis(soup)"
   ]
  },
  {
   "source": [
    "## get hypothesis from all free articles"
   ],
   "cell_type": "markdown",
   "metadata": {}
  },
  {
   "cell_type": "code",
   "execution_count": 9,
   "metadata": {},
   "outputs": [
    {
     "output_type": "stream",
     "name": "stderr",
     "text": [
      "100%|██████████| 1813/1813 [45:38<00:00,  1.51s/it]\n"
     ]
    }
   ],
   "source": [
    "results = {}\n",
    "for file in tqdm(files):\n",
    "    hypotheses = main(file)\n",
    "    if hypotheses:\n",
    "        results[file] = hypotheses\n",
    "    "
   ]
  },
  {
   "cell_type": "code",
   "execution_count": 10,
   "metadata": {},
   "outputs": [],
   "source": [
    "import pandas as pd\n",
    "df = pd.DataFrame({'file': list(results.keys()), 'hypotheses': list(results.values())})"
   ]
  },
  {
   "cell_type": "code",
   "execution_count": 11,
   "metadata": {},
   "outputs": [
    {
     "output_type": "execute_result",
     "data": {
      "text/plain": [
       "        file                                         hypotheses\n",
       "0     0.html  [We begin our analysis by examining the statis...\n",
       "1  1000.html  [we examine the hypothesis that the observed d...\n",
       "2  1002.html  [We hypothesize that skilled managers with inn...\n",
       "3  1005.html  [we hypothesize that the market wide investor ...\n",
       "4  1006.html  [we cannot reject the hypothesis that the inve..."
      ],
      "text/html": "<div>\n<style scoped>\n    .dataframe tbody tr th:only-of-type {\n        vertical-align: middle;\n    }\n\n    .dataframe tbody tr th {\n        vertical-align: top;\n    }\n\n    .dataframe thead th {\n        text-align: right;\n    }\n</style>\n<table border=\"1\" class=\"dataframe\">\n  <thead>\n    <tr style=\"text-align: right;\">\n      <th></th>\n      <th>file</th>\n      <th>hypotheses</th>\n    </tr>\n  </thead>\n  <tbody>\n    <tr>\n      <th>0</th>\n      <td>0.html</td>\n      <td>[We begin our analysis by examining the statis...</td>\n    </tr>\n    <tr>\n      <th>1</th>\n      <td>1000.html</td>\n      <td>[we examine the hypothesis that the observed d...</td>\n    </tr>\n    <tr>\n      <th>2</th>\n      <td>1002.html</td>\n      <td>[We hypothesize that skilled managers with inn...</td>\n    </tr>\n    <tr>\n      <th>3</th>\n      <td>1005.html</td>\n      <td>[we hypothesize that the market wide investor ...</td>\n    </tr>\n    <tr>\n      <th>4</th>\n      <td>1006.html</td>\n      <td>[we cannot reject the hypothesis that the inve...</td>\n    </tr>\n  </tbody>\n</table>\n</div>"
     },
     "metadata": {},
     "execution_count": 11
    }
   ],
   "source": [
    "df.head()"
   ]
  },
  {
   "cell_type": "code",
   "execution_count": 12,
   "metadata": {},
   "outputs": [],
   "source": [
    "# drop duplicates\n",
    "df['hypotheses'] = df['hypotheses'].apply(lambda x: list(set(x)))\n",
    "df['num_hypotheses'] = df['hypotheses'].apply(len)"
   ]
  },
  {
   "cell_type": "code",
   "execution_count": 13,
   "metadata": {},
   "outputs": [
    {
     "output_type": "execute_result",
     "data": {
      "text/plain": [
       "928"
      ]
     },
     "metadata": {},
     "execution_count": 13
    }
   ],
   "source": [
    "df['num_hypotheses'].sum()"
   ]
  },
  {
   "cell_type": "code",
   "execution_count": 14,
   "metadata": {},
   "outputs": [],
   "source": [
    "df.to_csv('../../RFS_extracted_hypothesis.csv', index=False)"
   ]
  },
  {
   "cell_type": "code",
   "execution_count": 19,
   "metadata": {},
   "outputs": [],
   "source": [
    "### reformat dataframe ###\n",
    "file_name = []\n",
    "h = []\n",
    "for index, row in df.iterrows():\n",
    "    for i in range(len(row['hypotheses'])):\n",
    "        file_name.append(row['file'])\n",
    "        h.append(row['hypotheses'][i])"
   ]
  },
  {
   "cell_type": "code",
   "execution_count": 20,
   "metadata": {},
   "outputs": [
    {
     "output_type": "execute_result",
     "data": {
      "text/plain": [
       "928"
      ]
     },
     "metadata": {},
     "execution_count": 20
    }
   ],
   "source": [
    "len(file_name)"
   ]
  },
  {
   "cell_type": "code",
   "execution_count": 21,
   "metadata": {},
   "outputs": [
    {
     "output_type": "execute_result",
     "data": {
      "text/plain": [
       "928"
      ]
     },
     "metadata": {},
     "execution_count": 21
    }
   ],
   "source": [
    "len(h)"
   ]
  },
  {
   "cell_type": "code",
   "execution_count": 22,
   "metadata": {},
   "outputs": [],
   "source": [
    "df_hypotheses_reformatted = pd.DataFrame({'file_name': file_name, 'hypothesis': h})"
   ]
  },
  {
   "cell_type": "code",
   "execution_count": 23,
   "metadata": {},
   "outputs": [
    {
     "output_type": "execute_result",
     "data": {
      "text/plain": [
       "   file_name                                         hypothesis\n",
       "0     0.html  ether this reduction in syndicated credit matt...\n",
       "1     0.html  We begin our analysis by examining the statist...\n",
       "2  1000.html  we examine the hypothesis that the observed di...\n",
       "3  1000.html  we test the hypothesis that investors and lend...\n",
       "4  1002.html  We hypothesize that skilled managers with inno..."
      ],
      "text/html": "<div>\n<style scoped>\n    .dataframe tbody tr th:only-of-type {\n        vertical-align: middle;\n    }\n\n    .dataframe tbody tr th {\n        vertical-align: top;\n    }\n\n    .dataframe thead th {\n        text-align: right;\n    }\n</style>\n<table border=\"1\" class=\"dataframe\">\n  <thead>\n    <tr style=\"text-align: right;\">\n      <th></th>\n      <th>file_name</th>\n      <th>hypothesis</th>\n    </tr>\n  </thead>\n  <tbody>\n    <tr>\n      <th>0</th>\n      <td>0.html</td>\n      <td>ether this reduction in syndicated credit matt...</td>\n    </tr>\n    <tr>\n      <th>1</th>\n      <td>0.html</td>\n      <td>We begin our analysis by examining the statist...</td>\n    </tr>\n    <tr>\n      <th>2</th>\n      <td>1000.html</td>\n      <td>we examine the hypothesis that the observed di...</td>\n    </tr>\n    <tr>\n      <th>3</th>\n      <td>1000.html</td>\n      <td>we test the hypothesis that investors and lend...</td>\n    </tr>\n    <tr>\n      <th>4</th>\n      <td>1002.html</td>\n      <td>We hypothesize that skilled managers with inno...</td>\n    </tr>\n  </tbody>\n</table>\n</div>"
     },
     "metadata": {},
     "execution_count": 23
    }
   ],
   "source": [
    "df_hypotheses_reformatted.head()"
   ]
  },
  {
   "cell_type": "code",
   "execution_count": 24,
   "metadata": {},
   "outputs": [
    {
     "output_type": "execute_result",
     "data": {
      "text/plain": [
       "                                                 doi  \\\n",
       "0  https://doi-org.libproxy1.nus.edu.sg/10.1093/r...   \n",
       "1  https://doi-org.libproxy1.nus.edu.sg/10.1093/r...   \n",
       "2  https://doi-org.libproxy1.nus.edu.sg/10.1093/r...   \n",
       "3  https://doi-org.libproxy1.nus.edu.sg/10.1093/r...   \n",
       "4  https://doi-org.libproxy1.nus.edu.sg/10.1093/r...   \n",
       "\n",
       "                                               title  volume  issue  \\\n",
       "0  The Rise of Shadow Banking: Evidence from Capi...      34      5   \n",
       "1    Mortgage Securitization and Shadow Bank Lending      34      5   \n",
       "2  Learning about Competitors: Evidence from SME ...      34      5   \n",
       "3  Marketplace Lending, Information Aggregation, ...      34      5   \n",
       "4  Mutual Funds as Venture Capitalists? Evidence ...      34      5   \n",
       "\n",
       "                                            abstract  full_text_filename  \\\n",
       "0  We investigate the connections between bank ca...                 NaN   \n",
       "1  We show how securitization affects the size of...                 NaN   \n",
       "2  We study how small and medium enterprise (SME)...                 NaN   \n",
       "3  Lending marketplaces aimed at directly connect...                 NaN   \n",
       "4  “Founder-friendly” venture financings and nont...                 NaN   \n",
       "\n",
       "  full_text_html_filename  \n",
       "0                  0.html  \n",
       "1                  1.html  \n",
       "2                  2.html  \n",
       "3                  3.html  \n",
       "4                  4.html  "
      ],
      "text/html": "<div>\n<style scoped>\n    .dataframe tbody tr th:only-of-type {\n        vertical-align: middle;\n    }\n\n    .dataframe tbody tr th {\n        vertical-align: top;\n    }\n\n    .dataframe thead th {\n        text-align: right;\n    }\n</style>\n<table border=\"1\" class=\"dataframe\">\n  <thead>\n    <tr style=\"text-align: right;\">\n      <th></th>\n      <th>doi</th>\n      <th>title</th>\n      <th>volume</th>\n      <th>issue</th>\n      <th>abstract</th>\n      <th>full_text_filename</th>\n      <th>full_text_html_filename</th>\n    </tr>\n  </thead>\n  <tbody>\n    <tr>\n      <th>0</th>\n      <td>https://doi-org.libproxy1.nus.edu.sg/10.1093/r...</td>\n      <td>The Rise of Shadow Banking: Evidence from Capi...</td>\n      <td>34</td>\n      <td>5</td>\n      <td>We investigate the connections between bank ca...</td>\n      <td>NaN</td>\n      <td>0.html</td>\n    </tr>\n    <tr>\n      <th>1</th>\n      <td>https://doi-org.libproxy1.nus.edu.sg/10.1093/r...</td>\n      <td>Mortgage Securitization and Shadow Bank Lending</td>\n      <td>34</td>\n      <td>5</td>\n      <td>We show how securitization affects the size of...</td>\n      <td>NaN</td>\n      <td>1.html</td>\n    </tr>\n    <tr>\n      <th>2</th>\n      <td>https://doi-org.libproxy1.nus.edu.sg/10.1093/r...</td>\n      <td>Learning about Competitors: Evidence from SME ...</td>\n      <td>34</td>\n      <td>5</td>\n      <td>We study how small and medium enterprise (SME)...</td>\n      <td>NaN</td>\n      <td>2.html</td>\n    </tr>\n    <tr>\n      <th>3</th>\n      <td>https://doi-org.libproxy1.nus.edu.sg/10.1093/r...</td>\n      <td>Marketplace Lending, Information Aggregation, ...</td>\n      <td>34</td>\n      <td>5</td>\n      <td>Lending marketplaces aimed at directly connect...</td>\n      <td>NaN</td>\n      <td>3.html</td>\n    </tr>\n    <tr>\n      <th>4</th>\n      <td>https://doi-org.libproxy1.nus.edu.sg/10.1093/r...</td>\n      <td>Mutual Funds as Venture Capitalists? Evidence ...</td>\n      <td>34</td>\n      <td>5</td>\n      <td>“Founder-friendly” venture financings and nont...</td>\n      <td>NaN</td>\n      <td>4.html</td>\n    </tr>\n  </tbody>\n</table>\n</div>"
     },
     "metadata": {},
     "execution_count": 24
    }
   ],
   "source": [
    "metadata = pd.read_csv('../RFS_2000_2021.csv', index_col=0)\n",
    "metadata.head()"
   ]
  },
  {
   "cell_type": "code",
   "execution_count": 26,
   "metadata": {},
   "outputs": [],
   "source": [
    "H_merged = pd.merge(metadata, df_hypotheses_reformatted, how='right', left_on='full_text_html_filename', right_on='file_name')\n",
    "H_merged = H_merged.drop('file_name', axis=1)"
   ]
  },
  {
   "cell_type": "code",
   "execution_count": 27,
   "metadata": {},
   "outputs": [
    {
     "output_type": "execute_result",
     "data": {
      "text/plain": [
       "                                                 doi  \\\n",
       "0  https://doi-org.libproxy1.nus.edu.sg/10.1093/r...   \n",
       "1  https://doi-org.libproxy1.nus.edu.sg/10.1093/r...   \n",
       "2  https://doi-org.libproxy1.nus.edu.sg/10.1093/r...   \n",
       "3  https://doi-org.libproxy1.nus.edu.sg/10.1093/r...   \n",
       "4  https://doi-org.libproxy1.nus.edu.sg/10.1093/r...   \n",
       "\n",
       "                                               title  volume  issue  \\\n",
       "0  The Rise of Shadow Banking: Evidence from Capi...      34      5   \n",
       "1  The Rise of Shadow Banking: Evidence from Capi...      34      5   \n",
       "2  Marketplace Lending, Information Aggregation, ...      34      5   \n",
       "3  Marketplace Lending, Information Aggregation, ...      34      5   \n",
       "4  Mutual Funds as Venture Capitalists? Evidence ...      34      5   \n",
       "\n",
       "                                            abstract  full_text_filename  \\\n",
       "0  We investigate the connections between bank ca...                 NaN   \n",
       "1  We investigate the connections between bank ca...                 NaN   \n",
       "2  Lending marketplaces aimed at directly connect...                 NaN   \n",
       "3  Lending marketplaces aimed at directly connect...                 NaN   \n",
       "4  “Founder-friendly” venture financings and nont...                 NaN   \n",
       "\n",
       "  full_text_html_filename                                         hypothesis  \n",
       "0                  0.html  ether this reduction in syndicated credit matt...  \n",
       "1                  0.html  We begin our analysis by examining the statist...  \n",
       "2                  3.html  we reject the hypothesis that the interest rat...  \n",
       "3                  3.html  we cannot reject the hypothesis that such a sw...  \n",
       "4                  4.html  Hypothesis 3.Mutual funds are more likely to i...  "
      ],
      "text/html": "<div>\n<style scoped>\n    .dataframe tbody tr th:only-of-type {\n        vertical-align: middle;\n    }\n\n    .dataframe tbody tr th {\n        vertical-align: top;\n    }\n\n    .dataframe thead th {\n        text-align: right;\n    }\n</style>\n<table border=\"1\" class=\"dataframe\">\n  <thead>\n    <tr style=\"text-align: right;\">\n      <th></th>\n      <th>doi</th>\n      <th>title</th>\n      <th>volume</th>\n      <th>issue</th>\n      <th>abstract</th>\n      <th>full_text_filename</th>\n      <th>full_text_html_filename</th>\n      <th>hypothesis</th>\n    </tr>\n  </thead>\n  <tbody>\n    <tr>\n      <th>0</th>\n      <td>https://doi-org.libproxy1.nus.edu.sg/10.1093/r...</td>\n      <td>The Rise of Shadow Banking: Evidence from Capi...</td>\n      <td>34</td>\n      <td>5</td>\n      <td>We investigate the connections between bank ca...</td>\n      <td>NaN</td>\n      <td>0.html</td>\n      <td>ether this reduction in syndicated credit matt...</td>\n    </tr>\n    <tr>\n      <th>1</th>\n      <td>https://doi-org.libproxy1.nus.edu.sg/10.1093/r...</td>\n      <td>The Rise of Shadow Banking: Evidence from Capi...</td>\n      <td>34</td>\n      <td>5</td>\n      <td>We investigate the connections between bank ca...</td>\n      <td>NaN</td>\n      <td>0.html</td>\n      <td>We begin our analysis by examining the statist...</td>\n    </tr>\n    <tr>\n      <th>2</th>\n      <td>https://doi-org.libproxy1.nus.edu.sg/10.1093/r...</td>\n      <td>Marketplace Lending, Information Aggregation, ...</td>\n      <td>34</td>\n      <td>5</td>\n      <td>Lending marketplaces aimed at directly connect...</td>\n      <td>NaN</td>\n      <td>3.html</td>\n      <td>we reject the hypothesis that the interest rat...</td>\n    </tr>\n    <tr>\n      <th>3</th>\n      <td>https://doi-org.libproxy1.nus.edu.sg/10.1093/r...</td>\n      <td>Marketplace Lending, Information Aggregation, ...</td>\n      <td>34</td>\n      <td>5</td>\n      <td>Lending marketplaces aimed at directly connect...</td>\n      <td>NaN</td>\n      <td>3.html</td>\n      <td>we cannot reject the hypothesis that such a sw...</td>\n    </tr>\n    <tr>\n      <th>4</th>\n      <td>https://doi-org.libproxy1.nus.edu.sg/10.1093/r...</td>\n      <td>Mutual Funds as Venture Capitalists? Evidence ...</td>\n      <td>34</td>\n      <td>5</td>\n      <td>“Founder-friendly” venture financings and nont...</td>\n      <td>NaN</td>\n      <td>4.html</td>\n      <td>Hypothesis 3.Mutual funds are more likely to i...</td>\n    </tr>\n  </tbody>\n</table>\n</div>"
     },
     "metadata": {},
     "execution_count": 27
    }
   ],
   "source": [
    "H_merged.head()"
   ]
  },
  {
   "cell_type": "code",
   "execution_count": 29,
   "metadata": {},
   "outputs": [],
   "source": [
    "H_merged.to_csv('../../RFS_extracted_hypothesis_with_paper_info.csv')"
   ]
  },
  {
   "cell_type": "code",
   "execution_count": null,
   "metadata": {},
   "outputs": [],
   "source": []
  }
 ]
}