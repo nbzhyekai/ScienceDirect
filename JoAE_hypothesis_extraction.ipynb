{
 "metadata": {
  "language_info": {
   "codemirror_mode": {
    "name": "ipython",
    "version": 3
   },
   "file_extension": ".py",
   "mimetype": "text/x-python",
   "name": "python",
   "nbconvert_exporter": "python",
   "pygments_lexer": "ipython3",
   "version": "3.8.3"
  },
  "orig_nbformat": 2,
  "kernelspec": {
   "name": "python383jvsc74a57bd05af03e6f6884cdcbf495aa98cbd8d63d5d0ed05506dbd026ba0a4981213ae30b",
   "display_name": "Python 3.8.3 64-bit ('base': conda)"
  }
 },
 "nbformat": 4,
 "nbformat_minor": 2,
 "cells": [
  {
   "cell_type": "code",
   "execution_count": 1,
   "metadata": {},
   "outputs": [],
   "source": [
    "import re\n",
    "import glob\n",
    "import pandas as pd\n",
    "from tqdm import tqdm"
   ]
  },
  {
   "cell_type": "code",
   "execution_count": 2,
   "metadata": {},
   "outputs": [],
   "source": [
    "journal = 'JoAE'"
   ]
  },
  {
   "cell_type": "code",
   "execution_count": 3,
   "metadata": {},
   "outputs": [],
   "source": [
    "# get all files\n",
    "import os\n",
    "# change dir\n",
    "os.chdir('papers/JoAE_2000_2021_full_text/')\n",
    "files = glob.glob(\"*.txt\")\n"
   ]
  },
  {
   "cell_type": "code",
   "execution_count": 4,
   "metadata": {},
   "outputs": [
    {
     "output_type": "execute_result",
     "data": {
      "text/plain": [
       "                                               title full_text_filename  \\\n",
       "0  Accounting for the impairment of long-lived as...              0.txt   \n",
       "1  Auditor resignations: clientele effects and le...              1.txt   \n",
       "2  Nuclear decommissioning costs: The impact of r...              2.txt   \n",
       "3  Market valuation and deregulation of electric ...              3.txt   \n",
       "4  The effect of tax accounting rules on capital ...              4.txt   \n",
       "\n",
       "                                                 doi  \\\n",
       "0  https://doi-org.libproxy1.nus.edu.sg/10.1016/S...   \n",
       "1      https://doi.org/10.1016/S0165-4101(00)00019-7   \n",
       "2      https://doi.org/10.1016/S0165-4101(00)00020-3   \n",
       "3      https://doi.org/10.1016/S0165-4101(00)00021-5   \n",
       "4      https://doi.org/10.1016/S0165-4101(00)00027-6   \n",
       "\n",
       "                                            abstract  volume issue  page_from  \\\n",
       "0  We investigate write-downs of assets of oil an...      29     2      151.0   \n",
       "1  I examine two hypotheses of auditor resignatio...      29     2      173.0   \n",
       "2  Mounting nuclear plant decommissioning costs a...      29     2      207.0   \n",
       "3  This study examines the effect of ongoing dere...      29     2      231.0   \n",
       "4  This study investigates the effect of changing...      30     1        1.0   \n",
       "\n",
       "   page_to                                                url   month  year  \n",
       "0    172.0  https://www-sciencedirect-com.libproxy1.nus.ed...   April  2000  \n",
       "1    205.0  https://www-sciencedirect-com.libproxy1.nus.ed...   April  2000  \n",
       "2    230.0  https://www-sciencedirect-com.libproxy1.nus.ed...   April  2000  \n",
       "3    260.0  https://www-sciencedirect-com.libproxy1.nus.ed...   April  2000  \n",
       "4     31.0  https://www-sciencedirect-com.libproxy1.nus.ed...  August  2000  "
      ],
      "text/html": "<div>\n<style scoped>\n    .dataframe tbody tr th:only-of-type {\n        vertical-align: middle;\n    }\n\n    .dataframe tbody tr th {\n        vertical-align: top;\n    }\n\n    .dataframe thead th {\n        text-align: right;\n    }\n</style>\n<table border=\"1\" class=\"dataframe\">\n  <thead>\n    <tr style=\"text-align: right;\">\n      <th></th>\n      <th>title</th>\n      <th>full_text_filename</th>\n      <th>doi</th>\n      <th>abstract</th>\n      <th>volume</th>\n      <th>issue</th>\n      <th>page_from</th>\n      <th>page_to</th>\n      <th>url</th>\n      <th>month</th>\n      <th>year</th>\n    </tr>\n  </thead>\n  <tbody>\n    <tr>\n      <th>0</th>\n      <td>Accounting for the impairment of long-lived as...</td>\n      <td>0.txt</td>\n      <td>https://doi-org.libproxy1.nus.edu.sg/10.1016/S...</td>\n      <td>We investigate write-downs of assets of oil an...</td>\n      <td>29</td>\n      <td>2</td>\n      <td>151.0</td>\n      <td>172.0</td>\n      <td>https://www-sciencedirect-com.libproxy1.nus.ed...</td>\n      <td>April</td>\n      <td>2000</td>\n    </tr>\n    <tr>\n      <th>1</th>\n      <td>Auditor resignations: clientele effects and le...</td>\n      <td>1.txt</td>\n      <td>https://doi.org/10.1016/S0165-4101(00)00019-7</td>\n      <td>I examine two hypotheses of auditor resignatio...</td>\n      <td>29</td>\n      <td>2</td>\n      <td>173.0</td>\n      <td>205.0</td>\n      <td>https://www-sciencedirect-com.libproxy1.nus.ed...</td>\n      <td>April</td>\n      <td>2000</td>\n    </tr>\n    <tr>\n      <th>2</th>\n      <td>Nuclear decommissioning costs: The impact of r...</td>\n      <td>2.txt</td>\n      <td>https://doi.org/10.1016/S0165-4101(00)00020-3</td>\n      <td>Mounting nuclear plant decommissioning costs a...</td>\n      <td>29</td>\n      <td>2</td>\n      <td>207.0</td>\n      <td>230.0</td>\n      <td>https://www-sciencedirect-com.libproxy1.nus.ed...</td>\n      <td>April</td>\n      <td>2000</td>\n    </tr>\n    <tr>\n      <th>3</th>\n      <td>Market valuation and deregulation of electric ...</td>\n      <td>3.txt</td>\n      <td>https://doi.org/10.1016/S0165-4101(00)00021-5</td>\n      <td>This study examines the effect of ongoing dere...</td>\n      <td>29</td>\n      <td>2</td>\n      <td>231.0</td>\n      <td>260.0</td>\n      <td>https://www-sciencedirect-com.libproxy1.nus.ed...</td>\n      <td>April</td>\n      <td>2000</td>\n    </tr>\n    <tr>\n      <th>4</th>\n      <td>The effect of tax accounting rules on capital ...</td>\n      <td>4.txt</td>\n      <td>https://doi.org/10.1016/S0165-4101(00)00027-6</td>\n      <td>This study investigates the effect of changing...</td>\n      <td>30</td>\n      <td>1</td>\n      <td>1.0</td>\n      <td>31.0</td>\n      <td>https://www-sciencedirect-com.libproxy1.nus.ed...</td>\n      <td>August</td>\n      <td>2000</td>\n    </tr>\n  </tbody>\n</table>\n</div>"
     },
     "metadata": {},
     "execution_count": 4
    }
   ],
   "source": [
    "# load meta data csv\n",
    "metadata = pd.read_csv('../JoAE_2000_2021.csv', index_col=0)\n",
    "metadata.head()"
   ]
  },
  {
   "cell_type": "code",
   "execution_count": 5,
   "metadata": {},
   "outputs": [],
   "source": [
    "def get_text(path_to_file):\n",
    "    f = open(path_to_file, \"r\", encoding='utf8')\n",
    "    text = f.read()\n",
    "    return text"
   ]
  },
  {
   "cell_type": "code",
   "execution_count": 6,
   "metadata": {},
   "outputs": [],
   "source": [
    "def get_hypothesis(text):\n",
    "\n",
    "    # return extracted hypothesis and rule number\n",
    "\n",
    "    # tokenized_text = text.splitlines()\n",
    "    # print(tokenized_text)\n",
    "\n",
    "    hypotheses = []\n",
    "    rules = []\n",
    "\n",
    "    text = text.replace('\\n', '')\n",
    "\n",
    "    # case 2:\n",
    "    res = re.findall(r'we.{1,10}hypothesize that.{1,300}\\.', text, re.I)\n",
    "    if res:\n",
    "        hypotheses += res\n",
    "        rules += [2 for _ in range(len(res))]\n",
    "\n",
    "\n",
    "    # case 3:\n",
    "    res = re.findall(r'hypothesis \\d[a-z]?[\\s:].{1,300}\\.', text, re.I)\n",
    "    if res:\n",
    "        hypotheses += res\n",
    "        rules += [3 for _ in range(len(res))]\n",
    "\n",
    "\n",
    "    # case 4:\n",
    "    res = re.findall(r'Our.{1,10}hypothesis is that.{1,300}\\.', text, re.I)\n",
    "    if res:\n",
    "        hypotheses += res\n",
    "        rules += [4 for _ in range(len(res))]\n",
    "\n",
    "    res = re.findall(r'Our.{1,10}hypothesis was that.{1,300}\\.', text, re.I)\n",
    "    if res:\n",
    "        hypotheses += res\n",
    "        rules += [4 for _ in range(len(res))]\n",
    "\n",
    "\n",
    "    # case 5:\n",
    "    res = re.findall(r'we.{5,15}the hypothesis that.{1,300}\\.', text, re.I)\n",
    "    if res:\n",
    "        hypotheses += res\n",
    "        rules += [5 for _ in range(len(res))]\n",
    "\n",
    "\n",
    "    # case 6:\n",
    "    res = re.findall(r'.{100,400}\\. To test this hypothesis', text)\n",
    "    if res:\n",
    "        hypotheses += res\n",
    "        rules += [6 for _ in range(len(res))] \n",
    "\n",
    "    res = re.findall(r'.{100,400}\\. To test these hypotheses', text)\n",
    "    if res:\n",
    "        hypotheses += res\n",
    "        rules += [6 for _ in range(len(res))] \n",
    "\n",
    "\n",
    "    return hypotheses, rules"
   ]
  },
  {
   "cell_type": "code",
   "execution_count": 7,
   "metadata": {},
   "outputs": [],
   "source": [
    "def main(file):\n",
    "    text = get_text(file)\n",
    "    return get_hypothesis(text)"
   ]
  },
  {
   "cell_type": "code",
   "execution_count": 8,
   "metadata": {},
   "outputs": [
    {
     "output_type": "execute_result",
     "data": {
      "text/plain": [
       "([], [])"
      ]
     },
     "metadata": {},
     "execution_count": 8
    }
   ],
   "source": [
    "main(files[50])"
   ]
  },
  {
   "source": [
    "## get hypothesis from all free articles"
   ],
   "cell_type": "markdown",
   "metadata": {}
  },
  {
   "cell_type": "code",
   "execution_count": 9,
   "metadata": {},
   "outputs": [
    {
     "output_type": "stream",
     "name": "stderr",
     "text": [
      "100%|██████████| 744/744 [01:40<00:00,  7.43it/s]\n"
     ]
    }
   ],
   "source": [
    "results = {}\n",
    "H = pd.DataFrame()\n",
    "for file in tqdm(files):\n",
    "    # print(main(file))\n",
    "    hypotheses, rules = main(file)\n",
    "    # print('{:} hypotheses found in file {}'.format(len(hypotheses), file))    \n",
    "    if hypotheses:\n",
    "        file_names = [file for _ in range(len(hypotheses))]\n",
    "        df = pd.DataFrame({'file_name': file_names, 'hypothesis': hypotheses, 'rule': rules})\n",
    "        # print(df)\n",
    "        H = pd.concat([H, df])\n"
   ]
  },
  {
   "cell_type": "code",
   "execution_count": 10,
   "metadata": {},
   "outputs": [],
   "source": [
    "H = H.drop_duplicates()\n",
    "H.reset_index(inplace=True)\n",
    "H = H.drop('index', axis=1)\n"
   ]
  },
  {
   "cell_type": "code",
   "execution_count": 11,
   "metadata": {},
   "outputs": [
    {
     "output_type": "execute_result",
     "data": {
      "text/plain": [
       "  file_name                                         hypothesis  rule\n",
       "0    10.txt  Our null hypothesis is that the sales producti...     4\n",
       "1    10.txt   different employees are best modeled as varyi...     6\n",
       "2   100.txt  Hypothesis 1 using long-horizon performance. A...     3\n",
       "3   100.txt  Hypothesis 2 are likely to be more powerful wh...     3\n",
       "4   100.txt  Hypothesis 3 predicts this row should be negat...     3"
      ],
      "text/html": "<div>\n<style scoped>\n    .dataframe tbody tr th:only-of-type {\n        vertical-align: middle;\n    }\n\n    .dataframe tbody tr th {\n        vertical-align: top;\n    }\n\n    .dataframe thead th {\n        text-align: right;\n    }\n</style>\n<table border=\"1\" class=\"dataframe\">\n  <thead>\n    <tr style=\"text-align: right;\">\n      <th></th>\n      <th>file_name</th>\n      <th>hypothesis</th>\n      <th>rule</th>\n    </tr>\n  </thead>\n  <tbody>\n    <tr>\n      <th>0</th>\n      <td>10.txt</td>\n      <td>Our null hypothesis is that the sales producti...</td>\n      <td>4</td>\n    </tr>\n    <tr>\n      <th>1</th>\n      <td>10.txt</td>\n      <td>different employees are best modeled as varyi...</td>\n      <td>6</td>\n    </tr>\n    <tr>\n      <th>2</th>\n      <td>100.txt</td>\n      <td>Hypothesis 1 using long-horizon performance. A...</td>\n      <td>3</td>\n    </tr>\n    <tr>\n      <th>3</th>\n      <td>100.txt</td>\n      <td>Hypothesis 2 are likely to be more powerful wh...</td>\n      <td>3</td>\n    </tr>\n    <tr>\n      <th>4</th>\n      <td>100.txt</td>\n      <td>Hypothesis 3 predicts this row should be negat...</td>\n      <td>3</td>\n    </tr>\n  </tbody>\n</table>\n</div>"
     },
     "metadata": {},
     "execution_count": 11
    }
   ],
   "source": [
    "H.head()"
   ]
  },
  {
   "cell_type": "code",
   "execution_count": 12,
   "metadata": {},
   "outputs": [
    {
     "output_type": "execute_result",
     "data": {
      "text/plain": [
       "(452, 3)"
      ]
     },
     "metadata": {},
     "execution_count": 12
    }
   ],
   "source": [
    "H.shape"
   ]
  },
  {
   "cell_type": "code",
   "execution_count": 13,
   "metadata": {},
   "outputs": [
    {
     "output_type": "execute_result",
     "data": {
      "text/plain": [
       "2    202\n",
       "3    158\n",
       "4     50\n",
       "6     24\n",
       "5     18\n",
       "Name: rule, dtype: int64"
      ]
     },
     "metadata": {},
     "execution_count": 13
    }
   ],
   "source": [
    "H.rule.value_counts()"
   ]
  },
  {
   "cell_type": "code",
   "execution_count": 15,
   "metadata": {},
   "outputs": [],
   "source": [
    "os.chdir('../../')\n",
    "H.to_csv(journal+'_extracted_hypothesis.csv', index=False)"
   ]
  },
  {
   "cell_type": "code",
   "execution_count": 18,
   "metadata": {},
   "outputs": [],
   "source": [
    "H_merged = pd.merge(metadata, H, how='right', left_on='full_text_filename', right_on='file_name')\n",
    "H_merged = H_merged.drop('file_name', axis=1)"
   ]
  },
  {
   "cell_type": "code",
   "execution_count": 19,
   "metadata": {},
   "outputs": [
    {
     "output_type": "execute_result",
     "data": {
      "text/plain": [
       "                                               title full_text_filename  \\\n",
       "0  Nuclear decommissioning costs: The impact of r...              2.txt   \n",
       "1  Nuclear decommissioning costs: The impact of r...              2.txt   \n",
       "2  Nuclear decommissioning costs: The impact of r...              2.txt   \n",
       "3  Nuclear decommissioning costs: The impact of r...              2.txt   \n",
       "4  Nuclear decommissioning costs: The impact of r...              2.txt   \n",
       "\n",
       "                                             doi  \\\n",
       "0  https://doi.org/10.1016/S0165-4101(00)00020-3   \n",
       "1  https://doi.org/10.1016/S0165-4101(00)00020-3   \n",
       "2  https://doi.org/10.1016/S0165-4101(00)00020-3   \n",
       "3  https://doi.org/10.1016/S0165-4101(00)00020-3   \n",
       "4  https://doi.org/10.1016/S0165-4101(00)00020-3   \n",
       "\n",
       "                                            abstract  volume issue  page_from  \\\n",
       "0  Mounting nuclear plant decommissioning costs a...      29     2      207.0   \n",
       "1  Mounting nuclear plant decommissioning costs a...      29     2      207.0   \n",
       "2  Mounting nuclear plant decommissioning costs a...      29     2      207.0   \n",
       "3  Mounting nuclear plant decommissioning costs a...      29     2      207.0   \n",
       "4  Mounting nuclear plant decommissioning costs a...      29     2      207.0   \n",
       "\n",
       "   page_to                                                url  month  year  \\\n",
       "0    230.0  https://www-sciencedirect-com.libproxy1.nus.ed...  April  2000   \n",
       "1    230.0  https://www-sciencedirect-com.libproxy1.nus.ed...  April  2000   \n",
       "2    230.0  https://www-sciencedirect-com.libproxy1.nus.ed...  April  2000   \n",
       "3    230.0  https://www-sciencedirect-com.libproxy1.nus.ed...  April  2000   \n",
       "4    230.0  https://www-sciencedirect-com.libproxy1.nus.ed...  April  2000   \n",
       "\n",
       "                                          hypothesis  rule  \n",
       "0  We hypothesize that utility value is negativel...     2  \n",
       "1  we hypothesize that the probability that nucle...     2  \n",
       "2  we hypothesize that it is less likely that suc...     2  \n",
       "3  We hypothesize that utilities operating in mor...     2  \n",
       "4  We hypothesize that rate recovery of unfunded ...     2  "
      ],
      "text/html": "<div>\n<style scoped>\n    .dataframe tbody tr th:only-of-type {\n        vertical-align: middle;\n    }\n\n    .dataframe tbody tr th {\n        vertical-align: top;\n    }\n\n    .dataframe thead th {\n        text-align: right;\n    }\n</style>\n<table border=\"1\" class=\"dataframe\">\n  <thead>\n    <tr style=\"text-align: right;\">\n      <th></th>\n      <th>title</th>\n      <th>full_text_filename</th>\n      <th>doi</th>\n      <th>abstract</th>\n      <th>volume</th>\n      <th>issue</th>\n      <th>page_from</th>\n      <th>page_to</th>\n      <th>url</th>\n      <th>month</th>\n      <th>year</th>\n      <th>hypothesis</th>\n      <th>rule</th>\n    </tr>\n  </thead>\n  <tbody>\n    <tr>\n      <th>0</th>\n      <td>Nuclear decommissioning costs: The impact of r...</td>\n      <td>2.txt</td>\n      <td>https://doi.org/10.1016/S0165-4101(00)00020-3</td>\n      <td>Mounting nuclear plant decommissioning costs a...</td>\n      <td>29</td>\n      <td>2</td>\n      <td>207.0</td>\n      <td>230.0</td>\n      <td>https://www-sciencedirect-com.libproxy1.nus.ed...</td>\n      <td>April</td>\n      <td>2000</td>\n      <td>We hypothesize that utility value is negativel...</td>\n      <td>2</td>\n    </tr>\n    <tr>\n      <th>1</th>\n      <td>Nuclear decommissioning costs: The impact of r...</td>\n      <td>2.txt</td>\n      <td>https://doi.org/10.1016/S0165-4101(00)00020-3</td>\n      <td>Mounting nuclear plant decommissioning costs a...</td>\n      <td>29</td>\n      <td>2</td>\n      <td>207.0</td>\n      <td>230.0</td>\n      <td>https://www-sciencedirect-com.libproxy1.nus.ed...</td>\n      <td>April</td>\n      <td>2000</td>\n      <td>we hypothesize that the probability that nucle...</td>\n      <td>2</td>\n    </tr>\n    <tr>\n      <th>2</th>\n      <td>Nuclear decommissioning costs: The impact of r...</td>\n      <td>2.txt</td>\n      <td>https://doi.org/10.1016/S0165-4101(00)00020-3</td>\n      <td>Mounting nuclear plant decommissioning costs a...</td>\n      <td>29</td>\n      <td>2</td>\n      <td>207.0</td>\n      <td>230.0</td>\n      <td>https://www-sciencedirect-com.libproxy1.nus.ed...</td>\n      <td>April</td>\n      <td>2000</td>\n      <td>we hypothesize that it is less likely that suc...</td>\n      <td>2</td>\n    </tr>\n    <tr>\n      <th>3</th>\n      <td>Nuclear decommissioning costs: The impact of r...</td>\n      <td>2.txt</td>\n      <td>https://doi.org/10.1016/S0165-4101(00)00020-3</td>\n      <td>Mounting nuclear plant decommissioning costs a...</td>\n      <td>29</td>\n      <td>2</td>\n      <td>207.0</td>\n      <td>230.0</td>\n      <td>https://www-sciencedirect-com.libproxy1.nus.ed...</td>\n      <td>April</td>\n      <td>2000</td>\n      <td>We hypothesize that utilities operating in mor...</td>\n      <td>2</td>\n    </tr>\n    <tr>\n      <th>4</th>\n      <td>Nuclear decommissioning costs: The impact of r...</td>\n      <td>2.txt</td>\n      <td>https://doi.org/10.1016/S0165-4101(00)00020-3</td>\n      <td>Mounting nuclear plant decommissioning costs a...</td>\n      <td>29</td>\n      <td>2</td>\n      <td>207.0</td>\n      <td>230.0</td>\n      <td>https://www-sciencedirect-com.libproxy1.nus.ed...</td>\n      <td>April</td>\n      <td>2000</td>\n      <td>We hypothesize that rate recovery of unfunded ...</td>\n      <td>2</td>\n    </tr>\n  </tbody>\n</table>\n</div>"
     },
     "metadata": {},
     "execution_count": 19
    }
   ],
   "source": [
    "H_merged.head()"
   ]
  },
  {
   "cell_type": "code",
   "execution_count": 21,
   "metadata": {},
   "outputs": [],
   "source": [
    "H_merged.to_csv(journal+'_extracted_hypothesis_with_paper_info.csv')"
   ]
  },
  {
   "cell_type": "code",
   "execution_count": null,
   "metadata": {},
   "outputs": [],
   "source": []
  }
 ]
}